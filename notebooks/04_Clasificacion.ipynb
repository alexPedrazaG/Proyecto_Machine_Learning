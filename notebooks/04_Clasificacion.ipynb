{
 "cells": [
  {
   "cell_type": "markdown",
   "id": "2c214380",
   "metadata": {},
   "source": [
    "# Importar librerías"
   ]
  },
  {
   "cell_type": "code",
   "execution_count": null,
   "id": "9395c597",
   "metadata": {},
   "outputs": [],
   "source": [
    "# Manipulación de datos\n",
    "import pandas as pd\n",
    "\n",
    "# Opcional: ver todas las columnas del DataFrame\n",
    "pd.set_option('display.max_columns', None)\n",
    "\n",
    "# Visualización\n",
    "import matplotlib.pyplot as plt\n",
    "\n",
    "# Guardado y carga de modelos\n",
    "import joblib\n",
    "\n",
    "# División de datos y validación\n",
    "from sklearn.model_selection import train_test_split\n",
    "\n",
    "# Modelos de regresión\n",
    "from sklearn.linear_model import LogisticRegression\n",
    "\n",
    "# Métricas de evaluación\n",
    "from sklearn.metrics import confusion_matrix, ConfusionMatrixDisplay\n",
    "from sklearn.metrics import accuracy_score, precision_score, recall_score, f1_score"
   ]
  },
  {
   "cell_type": "markdown",
   "id": "d03ec887",
   "metadata": {},
   "source": [
    "# Carga de datos"
   ]
  },
  {
   "cell_type": "code",
   "execution_count": 25,
   "id": "1726b8ec",
   "metadata": {},
   "outputs": [
    {
     "data": {
      "text/html": [
       "<div>\n",
       "<style scoped>\n",
       "    .dataframe tbody tr th:only-of-type {\n",
       "        vertical-align: middle;\n",
       "    }\n",
       "\n",
       "    .dataframe tbody tr th {\n",
       "        vertical-align: top;\n",
       "    }\n",
       "\n",
       "    .dataframe thead th {\n",
       "        text-align: right;\n",
       "    }\n",
       "</style>\n",
       "<table border=\"1\" class=\"dataframe\">\n",
       "  <thead>\n",
       "    <tr style=\"text-align: right;\">\n",
       "      <th></th>\n",
       "      <th>horas_estudio_semanal</th>\n",
       "      <th>nota_anterior</th>\n",
       "      <th>tasa_asistencia</th>\n",
       "      <th>horas_sueno</th>\n",
       "      <th>edad</th>\n",
       "      <th>nivel_dificultad</th>\n",
       "      <th>tiene_tutor</th>\n",
       "      <th>nota_final</th>\n",
       "      <th>aprobado</th>\n",
       "      <th>horario_desconocido</th>\n",
       "      <th>horario_mañana</th>\n",
       "      <th>horario_noche</th>\n",
       "      <th>horario_tarde</th>\n",
       "      <th>estilo_auditivo</th>\n",
       "      <th>estilo_desconocido</th>\n",
       "      <th>estilo_kinestésico</th>\n",
       "      <th>estilo_lectura/escritura</th>\n",
       "      <th>estilo_visual</th>\n",
       "    </tr>\n",
       "  </thead>\n",
       "  <tbody>\n",
       "    <tr>\n",
       "      <th>0</th>\n",
       "      <td>0.331667</td>\n",
       "      <td>0.269000</td>\n",
       "      <td>0.833000</td>\n",
       "      <td>0.446667</td>\n",
       "      <td>0.636364</td>\n",
       "      <td>0.0</td>\n",
       "      <td>1.0</td>\n",
       "      <td>0.777143</td>\n",
       "      <td>1</td>\n",
       "      <td>0.0</td>\n",
       "      <td>0.0</td>\n",
       "      <td>0.0</td>\n",
       "      <td>1.0</td>\n",
       "      <td>0.0</td>\n",
       "      <td>0.0</td>\n",
       "      <td>0.0</td>\n",
       "      <td>1.0</td>\n",
       "      <td>0.0</td>\n",
       "    </tr>\n",
       "    <tr>\n",
       "      <th>1</th>\n",
       "      <td>0.418333</td>\n",
       "      <td>0.726143</td>\n",
       "      <td>0.793125</td>\n",
       "      <td>0.103333</td>\n",
       "      <td>0.000000</td>\n",
       "      <td>1.0</td>\n",
       "      <td>0.0</td>\n",
       "      <td>0.600000</td>\n",
       "      <td>1</td>\n",
       "      <td>0.0</td>\n",
       "      <td>0.0</td>\n",
       "      <td>0.0</td>\n",
       "      <td>1.0</td>\n",
       "      <td>0.0</td>\n",
       "      <td>1.0</td>\n",
       "      <td>0.0</td>\n",
       "      <td>0.0</td>\n",
       "      <td>0.0</td>\n",
       "    </tr>\n",
       "    <tr>\n",
       "      <th>2</th>\n",
       "      <td>0.146250</td>\n",
       "      <td>0.862571</td>\n",
       "      <td>0.682750</td>\n",
       "      <td>0.626667</td>\n",
       "      <td>0.636364</td>\n",
       "      <td>0.0</td>\n",
       "      <td>0.0</td>\n",
       "      <td>0.714286</td>\n",
       "      <td>1</td>\n",
       "      <td>0.0</td>\n",
       "      <td>1.0</td>\n",
       "      <td>0.0</td>\n",
       "      <td>0.0</td>\n",
       "      <td>0.0</td>\n",
       "      <td>0.0</td>\n",
       "      <td>0.0</td>\n",
       "      <td>1.0</td>\n",
       "      <td>0.0</td>\n",
       "    </tr>\n",
       "    <tr>\n",
       "      <th>3</th>\n",
       "      <td>0.235417</td>\n",
       "      <td>0.741143</td>\n",
       "      <td>0.785625</td>\n",
       "      <td>0.765000</td>\n",
       "      <td>0.454545</td>\n",
       "      <td>0.0</td>\n",
       "      <td>0.0</td>\n",
       "      <td>0.688571</td>\n",
       "      <td>1</td>\n",
       "      <td>1.0</td>\n",
       "      <td>0.0</td>\n",
       "      <td>0.0</td>\n",
       "      <td>0.0</td>\n",
       "      <td>0.0</td>\n",
       "      <td>0.0</td>\n",
       "      <td>0.0</td>\n",
       "      <td>0.0</td>\n",
       "      <td>1.0</td>\n",
       "    </tr>\n",
       "    <tr>\n",
       "      <th>4</th>\n",
       "      <td>0.000000</td>\n",
       "      <td>0.517857</td>\n",
       "      <td>0.431750</td>\n",
       "      <td>0.445000</td>\n",
       "      <td>0.272727</td>\n",
       "      <td>0.5</td>\n",
       "      <td>0.0</td>\n",
       "      <td>0.514286</td>\n",
       "      <td>1</td>\n",
       "      <td>1.0</td>\n",
       "      <td>0.0</td>\n",
       "      <td>0.0</td>\n",
       "      <td>0.0</td>\n",
       "      <td>1.0</td>\n",
       "      <td>0.0</td>\n",
       "      <td>0.0</td>\n",
       "      <td>0.0</td>\n",
       "      <td>0.0</td>\n",
       "    </tr>\n",
       "  </tbody>\n",
       "</table>\n",
       "</div>"
      ],
      "text/plain": [
       "   horas_estudio_semanal  nota_anterior  tasa_asistencia  horas_sueno  \\\n",
       "0               0.331667       0.269000         0.833000     0.446667   \n",
       "1               0.418333       0.726143         0.793125     0.103333   \n",
       "2               0.146250       0.862571         0.682750     0.626667   \n",
       "3               0.235417       0.741143         0.785625     0.765000   \n",
       "4               0.000000       0.517857         0.431750     0.445000   \n",
       "\n",
       "       edad  nivel_dificultad  tiene_tutor  nota_final  aprobado  \\\n",
       "0  0.636364               0.0          1.0    0.777143         1   \n",
       "1  0.000000               1.0          0.0    0.600000         1   \n",
       "2  0.636364               0.0          0.0    0.714286         1   \n",
       "3  0.454545               0.0          0.0    0.688571         1   \n",
       "4  0.272727               0.5          0.0    0.514286         1   \n",
       "\n",
       "   horario_desconocido  horario_mañana  horario_noche  horario_tarde  \\\n",
       "0                  0.0             0.0            0.0            1.0   \n",
       "1                  0.0             0.0            0.0            1.0   \n",
       "2                  0.0             1.0            0.0            0.0   \n",
       "3                  1.0             0.0            0.0            0.0   \n",
       "4                  1.0             0.0            0.0            0.0   \n",
       "\n",
       "   estilo_auditivo  estilo_desconocido  estilo_kinestésico  \\\n",
       "0              0.0                 0.0                 0.0   \n",
       "1              0.0                 1.0                 0.0   \n",
       "2              0.0                 0.0                 0.0   \n",
       "3              0.0                 0.0                 0.0   \n",
       "4              1.0                 0.0                 0.0   \n",
       "\n",
       "   estilo_lectura/escritura  estilo_visual  \n",
       "0                       1.0            0.0  \n",
       "1                       0.0            0.0  \n",
       "2                       1.0            0.0  \n",
       "3                       0.0            1.0  \n",
       "4                       0.0            0.0  "
      ]
     },
     "execution_count": 25,
     "metadata": {},
     "output_type": "execute_result"
    }
   ],
   "source": [
    "# Cargamos datos y leemos las primeras 5 filas\n",
    "df_cla= pd.read_csv('../data/processed/df_clasificacion.csv', sep=';')\n",
    "df_cla.head()"
   ]
  },
  {
   "cell_type": "markdown",
   "id": "bcdf6147",
   "metadata": {},
   "source": [
    "### Separación del conjunto de datos"
   ]
  },
  {
   "cell_type": "code",
   "execution_count": 26,
   "id": "65784003",
   "metadata": {},
   "outputs": [],
   "source": [
    "# Variable objetivo\n",
    "tv = 'aprobado'\n",
    "\n",
    "# Definimos las variables predictoras (X) de la variable objetivo y\n",
    "X = df_cla.drop(columns=[tv])\n",
    "y = df_cla[tv]"
   ]
  },
  {
   "cell_type": "code",
   "execution_count": 27,
   "id": "5141ebcd",
   "metadata": {},
   "outputs": [
    {
     "name": "stdout",
     "output_type": "stream",
     "text": [
      "Tamaño del conjunto de entranmiento: (800, 17)\n",
      "Tamaño del conjunto de prueba: (200, 17)\n"
     ]
    }
   ],
   "source": [
    "# Dividimos los datos en 80% entrenamiento y 20% prueba\n",
    "X_train, X_test, y_train, y_test = train_test_split(X, y, test_size=0.2, random_state=42)\n",
    "\n",
    "# Mostramos los tamaños de los conjuntos resultantes\n",
    "print(f'Tamaño del conjunto de entranmiento: {X_train.shape}')\n",
    "print(f'Tamaño del conjunto de prueba: {X_test.shape}')"
   ]
  },
  {
   "cell_type": "markdown",
   "id": "3108ddeb",
   "metadata": {},
   "source": [
    "# Entrenamiento del modelo"
   ]
  },
  {
   "cell_type": "code",
   "execution_count": 28,
   "id": "bf51cd03",
   "metadata": {},
   "outputs": [],
   "source": [
    "# Creamos el modelo de regresión linela\n",
    "modelo = LogisticRegression(penalty='l2', C=1, max_iter=200)\n",
    "\n",
    "# Ajustar el modelo con los datos de entrenamiento\n",
    "modelo.fit(X_train, y_train)\n",
    "\n",
    "# Hacer predicciones con los datos de prueba\n",
    "y_pred = modelo.predict(X_test)\n",
    "\n",
    "# Obtener las probabilidades de predicción\n",
    "y_prob = modelo.predict_proba(X_test)[:, 1] # Probabilidad de clase positiva"
   ]
  },
  {
   "cell_type": "markdown",
   "id": "6ce69526",
   "metadata": {},
   "source": [
    "# Validación del modelo"
   ]
  },
  {
   "cell_type": "code",
   "execution_count": 29,
   "id": "0ec4477d",
   "metadata": {},
   "outputs": [
    {
     "data": {
      "image/png": "[encoded data removed]",
      "text/plain": [
       "<Figure size 640x480 with 2 Axes>"
      ]
     },
     "metadata": {},
     "output_type": "display_data"
    }
   ],
   "source": [
    "# Calcular matriz confusión\n",
    "cm= confusion_matrix(y_test, y_pred)\n",
    "\n",
    "# Visualizar matriz confusión\n",
    "disp = ConfusionMatrixDisplay(confusion_matrix=cm)\n",
    "disp.plot(cmap='Blues')\n",
    "plt.title('Matriz Confusión')\n",
    "plt.show()\n"
   ]
  },
  {
   "cell_type": "markdown",
   "id": "8ef1eafa",
   "metadata": {},
   "source": [
    "### Métricas"
   ]
  },
  {
   "cell_type": "code",
   "execution_count": 30,
   "id": "8ae7ccae",
   "metadata": {},
   "outputs": [],
   "source": [
    "# Predicciones\n",
    "y_train_pred = modelo.predict(X_train)\n",
    "y_test_pred = modelo.predict(X_test)\n",
    "\n",
    "# Obtener las probabilidades de predicciones \n",
    "y_train_proba = modelo.predict_proba(X_train)\n",
    "y_test_proba =  modelo.predict_proba(X_test)\n"
   ]
  },
  {
   "cell_type": "markdown",
   "id": "169ede1d",
   "metadata": {},
   "source": [
    "##### Cálculo de métricas"
   ]
  },
  {
   "cell_type": "code",
   "execution_count": 31,
   "id": "c5a669b0",
   "metadata": {},
   "outputs": [],
   "source": [
    "metrics = {\n",
    "    'train': {\n",
    "        'Accuracy': accuracy_score(y_train, y_train_pred),\n",
    "        'Precision': precision_score(y_train, y_train_pred),\n",
    "        'Recall': recall_score(y_train, y_train_pred),\n",
    "        'F1-score': f1_score(y_train, y_train_pred),\n",
    "    },\n",
    "    'test': {\n",
    "        'Accuracy': accuracy_score(y_test, y_test_pred),\n",
    "        'Precision': precision_score(y_test, y_test_pred),\n",
    "        'Recall': recall_score(y_test, y_test_pred),\n",
    "        'F1-score': f1_score(y_test, y_test_pred),\n",
    "    },\n",
    "}"
   ]
  },
  {
   "cell_type": "code",
   "execution_count": 32,
   "id": "6fce49c0",
   "metadata": {},
   "outputs": [
    {
     "data": {
      "text/html": [
       "<div>\n",
       "<style scoped>\n",
       "    .dataframe tbody tr th:only-of-type {\n",
       "        vertical-align: middle;\n",
       "    }\n",
       "\n",
       "    .dataframe tbody tr th {\n",
       "        vertical-align: top;\n",
       "    }\n",
       "\n",
       "    .dataframe thead th {\n",
       "        text-align: right;\n",
       "    }\n",
       "</style>\n",
       "<table border=\"1\" class=\"dataframe\">\n",
       "  <thead>\n",
       "    <tr style=\"text-align: right;\">\n",
       "      <th></th>\n",
       "      <th>Accuracy</th>\n",
       "      <th>Precision</th>\n",
       "      <th>Recall</th>\n",
       "      <th>F1-score</th>\n",
       "    </tr>\n",
       "  </thead>\n",
       "  <tbody>\n",
       "    <tr>\n",
       "      <th>train</th>\n",
       "      <td>0.92</td>\n",
       "      <td>0.92</td>\n",
       "      <td>1.0</td>\n",
       "      <td>0.96</td>\n",
       "    </tr>\n",
       "    <tr>\n",
       "      <th>test</th>\n",
       "      <td>0.96</td>\n",
       "      <td>0.96</td>\n",
       "      <td>1.0</td>\n",
       "      <td>0.98</td>\n",
       "    </tr>\n",
       "  </tbody>\n",
       "</table>\n",
       "</div>"
      ],
      "text/plain": [
       "       Accuracy  Precision  Recall  F1-score\n",
       "train      0.92       0.92     1.0      0.96\n",
       "test       0.96       0.96     1.0      0.98"
      ]
     },
     "execution_count": 32,
     "metadata": {},
     "output_type": "execute_result"
    }
   ],
   "source": [
    "# Mostramos la métricas en un df\n",
    "df_metrics = pd.DataFrame(metrics).T.round(2)\n",
    "df_metrics"
   ]
  },
  {
   "cell_type": "code",
   "execution_count": 33,
   "id": "814facf2",
   "metadata": {},
   "outputs": [
    {
     "data": {
      "text/plain": [
       "aprobado\n",
       "1    0.898\n",
       "0    0.102\n",
       "Name: proportion, dtype: float64"
      ]
     },
     "execution_count": 33,
     "metadata": {},
     "output_type": "execute_result"
    }
   ],
   "source": [
    "# Comrpobamos si la variable y esta desbalanceada\n",
    "y.value_counts(normalize=True)"
   ]
  },
  {
   "cell_type": "code",
   "execution_count": 34,
   "id": "6fb94895",
   "metadata": {},
   "outputs": [
    {
     "data": {
      "text/html": [
       "<div>\n",
       "<style scoped>\n",
       "    .dataframe tbody tr th:only-of-type {\n",
       "        vertical-align: middle;\n",
       "    }\n",
       "\n",
       "    .dataframe tbody tr th {\n",
       "        vertical-align: top;\n",
       "    }\n",
       "\n",
       "    .dataframe thead th {\n",
       "        text-align: right;\n",
       "    }\n",
       "</style>\n",
       "<table border=\"1\" class=\"dataframe\">\n",
       "  <thead>\n",
       "    <tr style=\"text-align: right;\">\n",
       "      <th></th>\n",
       "      <th>Accuracy</th>\n",
       "      <th>Precision</th>\n",
       "      <th>Recall</th>\n",
       "      <th>F1-score</th>\n",
       "    </tr>\n",
       "  </thead>\n",
       "  <tbody>\n",
       "    <tr>\n",
       "      <th>train</th>\n",
       "      <td>0.92</td>\n",
       "      <td>0.93</td>\n",
       "      <td>0.92</td>\n",
       "      <td>0.90</td>\n",
       "    </tr>\n",
       "    <tr>\n",
       "      <th>test</th>\n",
       "      <td>0.96</td>\n",
       "      <td>0.96</td>\n",
       "      <td>0.96</td>\n",
       "      <td>0.95</td>\n",
       "    </tr>\n",
       "  </tbody>\n",
       "</table>\n",
       "</div>"
      ],
      "text/plain": [
       "       Accuracy  Precision  Recall  F1-score\n",
       "train      0.92       0.93    0.92      0.90\n",
       "test       0.96       0.96    0.96      0.95"
      ]
     },
     "execution_count": 34,
     "metadata": {},
     "output_type": "execute_result"
    }
   ],
   "source": [
    "# Cálculo de métricas con desbalanceo\n",
    "metrics_weighted = {\n",
    "    'train': {\n",
    "        'Accuracy': accuracy_score(y_train, y_train_pred),\n",
    "        'Precision': precision_score(y_train, y_train_pred, average='weighted'),\n",
    "        'Recall': recall_score(y_train, y_train_pred, average='weighted'),\n",
    "        'F1-score': f1_score(y_train, y_train_pred, average='weighted'),\n",
    "    },\n",
    "    'test': {\n",
    "        'Accuracy': accuracy_score(y_test, y_test_pred),\n",
    "        'Precision': precision_score(y_test, y_test_pred, average='weighted'),\n",
    "        'Recall': recall_score(y_test, y_test_pred, average='weighted'),\n",
    "        'F1-score': f1_score(y_test, y_test_pred, average='weighted'),\n",
    "    },\n",
    "}\n",
    "\n",
    "# Mostramos la métricas en un df\n",
    "df_metrics_wei = pd.DataFrame(metrics_weighted).T.round(2)\n",
    "df_metrics_wei"
   ]
  },
  {
   "cell_type": "markdown",
   "id": "935bb47f",
   "metadata": {},
   "source": [
    "# Importancia de las Características"
   ]
  },
  {
   "cell_type": "code",
   "execution_count": 35,
   "id": "25c4eace",
   "metadata": {},
   "outputs": [
    {
     "data": {
      "text/html": [
       "<div>\n",
       "<style scoped>\n",
       "    .dataframe tbody tr th:only-of-type {\n",
       "        vertical-align: middle;\n",
       "    }\n",
       "\n",
       "    .dataframe tbody tr th {\n",
       "        vertical-align: top;\n",
       "    }\n",
       "\n",
       "    .dataframe thead th {\n",
       "        text-align: right;\n",
       "    }\n",
       "</style>\n",
       "<table border=\"1\" class=\"dataframe\">\n",
       "  <thead>\n",
       "    <tr style=\"text-align: right;\">\n",
       "      <th></th>\n",
       "      <th>Feature</th>\n",
       "      <th>Coefficient</th>\n",
       "    </tr>\n",
       "  </thead>\n",
       "  <tbody>\n",
       "    <tr>\n",
       "      <th>7</th>\n",
       "      <td>nota_final</td>\n",
       "      <td>7.729006</td>\n",
       "    </tr>\n",
       "    <tr>\n",
       "      <th>0</th>\n",
       "      <td>horas_estudio_semanal</td>\n",
       "      <td>1.828739</td>\n",
       "    </tr>\n",
       "    <tr>\n",
       "      <th>1</th>\n",
       "      <td>nota_anterior</td>\n",
       "      <td>1.423191</td>\n",
       "    </tr>\n",
       "    <tr>\n",
       "      <th>2</th>\n",
       "      <td>tasa_asistencia</td>\n",
       "      <td>0.775677</td>\n",
       "    </tr>\n",
       "    <tr>\n",
       "      <th>5</th>\n",
       "      <td>nivel_dificultad</td>\n",
       "      <td>-0.745375</td>\n",
       "    </tr>\n",
       "    <tr>\n",
       "      <th>8</th>\n",
       "      <td>horario_desconocido</td>\n",
       "      <td>0.484177</td>\n",
       "    </tr>\n",
       "    <tr>\n",
       "      <th>3</th>\n",
       "      <td>horas_sueno</td>\n",
       "      <td>0.353050</td>\n",
       "    </tr>\n",
       "    <tr>\n",
       "      <th>10</th>\n",
       "      <td>horario_noche</td>\n",
       "      <td>-0.351345</td>\n",
       "    </tr>\n",
       "    <tr>\n",
       "      <th>15</th>\n",
       "      <td>estilo_lectura/escritura</td>\n",
       "      <td>0.274808</td>\n",
       "    </tr>\n",
       "    <tr>\n",
       "      <th>16</th>\n",
       "      <td>estilo_visual</td>\n",
       "      <td>-0.243085</td>\n",
       "    </tr>\n",
       "    <tr>\n",
       "      <th>14</th>\n",
       "      <td>estilo_kinestésico</td>\n",
       "      <td>-0.197529</td>\n",
       "    </tr>\n",
       "    <tr>\n",
       "      <th>4</th>\n",
       "      <td>edad</td>\n",
       "      <td>-0.194573</td>\n",
       "    </tr>\n",
       "    <tr>\n",
       "      <th>12</th>\n",
       "      <td>estilo_auditivo</td>\n",
       "      <td>0.163212</td>\n",
       "    </tr>\n",
       "    <tr>\n",
       "      <th>11</th>\n",
       "      <td>horario_tarde</td>\n",
       "      <td>-0.128396</td>\n",
       "    </tr>\n",
       "    <tr>\n",
       "      <th>6</th>\n",
       "      <td>tiene_tutor</td>\n",
       "      <td>0.037366</td>\n",
       "    </tr>\n",
       "    <tr>\n",
       "      <th>9</th>\n",
       "      <td>horario_mañana</td>\n",
       "      <td>-0.008134</td>\n",
       "    </tr>\n",
       "    <tr>\n",
       "      <th>13</th>\n",
       "      <td>estilo_desconocido</td>\n",
       "      <td>-0.001104</td>\n",
       "    </tr>\n",
       "  </tbody>\n",
       "</table>\n",
       "</div>"
      ],
      "text/plain": [
       "                     Feature  Coefficient\n",
       "7                 nota_final     7.729006\n",
       "0      horas_estudio_semanal     1.828739\n",
       "1              nota_anterior     1.423191\n",
       "2            tasa_asistencia     0.775677\n",
       "5           nivel_dificultad    -0.745375\n",
       "8        horario_desconocido     0.484177\n",
       "3                horas_sueno     0.353050\n",
       "10             horario_noche    -0.351345\n",
       "15  estilo_lectura/escritura     0.274808\n",
       "16             estilo_visual    -0.243085\n",
       "14        estilo_kinestésico    -0.197529\n",
       "4                       edad    -0.194573\n",
       "12           estilo_auditivo     0.163212\n",
       "11             horario_tarde    -0.128396\n",
       "6                tiene_tutor     0.037366\n",
       "9             horario_mañana    -0.008134\n",
       "13        estilo_desconocido    -0.001104"
      ]
     },
     "execution_count": 35,
     "metadata": {},
     "output_type": "execute_result"
    }
   ],
   "source": [
    "# Crear DF con los coeficientes\n",
    "coef_df = pd.DataFrame({'Feature': X.columns.to_list(), 'Coefficient': modelo.coef_[0]})\n",
    "coef_df = coef_df.sort_values(by='Coefficient', ascending=False, key=abs)\n",
    "coef_df"
   ]
  },
  {
   "cell_type": "code",
   "execution_count": 36,
   "id": "a778384a",
   "metadata": {},
   "outputs": [
    {
     "data": {
      "image/png": "[encoded data removed]",
      "text/plain": [
       "<Figure size 800x500 with 1 Axes>"
      ]
     },
     "metadata": {},
     "output_type": "display_data"
    }
   ],
   "source": [
    "# Visualización los coeficientes con un gráfico de barras\n",
    "plt.figure(figsize=(8,5))\n",
    "plt.barh(coef_df['Feature'], coef_df['Coefficient'], color='blue')\n",
    "plt.xlabel('Valor del coeficiente')\n",
    "plt.ylabel('Feature')\n",
    "plt.title('Importancia de características en la Regresión Logística')\n",
    "plt.axvline(0, color='black', linewidth=1) # Línea en 0 para la referencia\n",
    "plt.gca().invert_yaxis() # Invertir eje para que la más importante esté arriba\n",
    "plt.show()"
   ]
  },
  {
   "cell_type": "markdown",
   "id": "335054ee",
   "metadata": {},
   "source": [
    "### Entrenamiento Final"
   ]
  },
  {
   "cell_type": "code",
   "execution_count": null,
   "id": "d1453bb8",
   "metadata": {},
   "outputs": [
    {
     "data": {
      "text/plain": [
       "['../models/modelo_clasificacion.pkl']"
      ]
     },
     "execution_count": 37,
     "metadata": {},
     "output_type": "execute_result"
    }
   ],
   "source": [
    "# Entrenar el modelo con todo el conjunto de datos\n",
    "modelo_final = LogisticRegression(penalty='l2', C=1.0, max_iter=200, n_jobs=-1)\n",
    "modelo_final.fit(X, y)\n",
    "\n",
    "# Guardar el modelo entrenado para producción\n",
    "joblib.dump(modelo_final, '../models/modelo_clasificacion.pkl')"
   ]
  },
  {
   "cell_type": "markdown",
   "id": "adaa5b10",
   "metadata": {},
   "source": [
    "### Comparativa de variantes de regresión logística con regularización"
   ]
  },
  {
   "cell_type": "code",
   "execution_count": 40,
   "id": "d3d58ea8",
   "metadata": {},
   "outputs": [
    {
     "data": {
      "text/html": [
       "<div>\n",
       "<style scoped>\n",
       "    .dataframe tbody tr th:only-of-type {\n",
       "        vertical-align: middle;\n",
       "    }\n",
       "\n",
       "    .dataframe tbody tr th {\n",
       "        vertical-align: top;\n",
       "    }\n",
       "\n",
       "    .dataframe thead th {\n",
       "        text-align: right;\n",
       "    }\n",
       "</style>\n",
       "<table border=\"1\" class=\"dataframe\">\n",
       "  <thead>\n",
       "    <tr style=\"text-align: right;\">\n",
       "      <th></th>\n",
       "      <th>Train Accuracy</th>\n",
       "      <th>Train Precision (Weighted)</th>\n",
       "      <th>Train Recall (Weighted)</th>\n",
       "      <th>Train F1 (Weighted)</th>\n",
       "      <th>Test Accuracy</th>\n",
       "      <th>Test Precision (Weighted)</th>\n",
       "      <th>Test Recall (Weighted)</th>\n",
       "      <th>Test F1 (Weighted)</th>\n",
       "    </tr>\n",
       "  </thead>\n",
       "  <tbody>\n",
       "    <tr>\n",
       "      <th>Logistic (L2 - Ridge)</th>\n",
       "      <td>0.92</td>\n",
       "      <td>0.93</td>\n",
       "      <td>0.92</td>\n",
       "      <td>0.90</td>\n",
       "      <td>0.96</td>\n",
       "      <td>0.96</td>\n",
       "      <td>0.96</td>\n",
       "      <td>0.95</td>\n",
       "    </tr>\n",
       "    <tr>\n",
       "      <th>Logistic (L1 - Lasso)</th>\n",
       "      <td>0.89</td>\n",
       "      <td>0.90</td>\n",
       "      <td>0.89</td>\n",
       "      <td>0.84</td>\n",
       "      <td>0.92</td>\n",
       "      <td>0.86</td>\n",
       "      <td>0.92</td>\n",
       "      <td>0.89</td>\n",
       "    </tr>\n",
       "    <tr>\n",
       "      <th>Logistic (ElasticNet)</th>\n",
       "      <td>0.89</td>\n",
       "      <td>0.79</td>\n",
       "      <td>0.89</td>\n",
       "      <td>0.84</td>\n",
       "      <td>0.92</td>\n",
       "      <td>0.86</td>\n",
       "      <td>0.92</td>\n",
       "      <td>0.89</td>\n",
       "    </tr>\n",
       "  </tbody>\n",
       "</table>\n",
       "</div>"
      ],
      "text/plain": [
       "                       Train Accuracy  Train Precision (Weighted)  \\\n",
       "Logistic (L2 - Ridge)            0.92                        0.93   \n",
       "Logistic (L1 - Lasso)            0.89                        0.90   \n",
       "Logistic (ElasticNet)            0.89                        0.79   \n",
       "\n",
       "                       Train Recall (Weighted)  Train F1 (Weighted)  \\\n",
       "Logistic (L2 - Ridge)                     0.92                 0.90   \n",
       "Logistic (L1 - Lasso)                     0.89                 0.84   \n",
       "Logistic (ElasticNet)                     0.89                 0.84   \n",
       "\n",
       "                       Test Accuracy  Test Precision (Weighted)  \\\n",
       "Logistic (L2 - Ridge)           0.96                       0.96   \n",
       "Logistic (L1 - Lasso)           0.92                       0.86   \n",
       "Logistic (ElasticNet)           0.92                       0.86   \n",
       "\n",
       "                       Test Recall (Weighted)  Test F1 (Weighted)  \n",
       "Logistic (L2 - Ridge)                    0.96                0.95  \n",
       "Logistic (L1 - Lasso)                    0.92                0.89  \n",
       "Logistic (ElasticNet)                    0.92                0.89  "
      ]
     },
     "execution_count": 40,
     "metadata": {},
     "output_type": "execute_result"
    }
   ],
   "source": [
    "# Definir modelos de regularizacion \n",
    "models ={\n",
    "    'Logistic (L2 - Ridge)': LogisticRegression(penalty='l2', C=1.0, solver='liblinear'),\n",
    "    'Logistic (L1 - Lasso)': LogisticRegression(penalty='l1', C=0.1, solver='liblinear'),\n",
    "    'Logistic (ElasticNet)': LogisticRegression(penalty='elasticnet', C=0.1, l1_ratio=0.5, solver='saga'),\n",
    "}\n",
    "\n",
    "# Inicializar diccionario\n",
    "metrics_results_cla = {}\n",
    "\n",
    "# Entrenar y evalucar cada modelo\n",
    "for name, model in models.items():\n",
    "    model.fit(X_train, y_train) \n",
    "\n",
    "    # Predecir entrenamiento y prueba\n",
    "    y_train_pred= model.predict(X_train)\n",
    "    y_test_pred= model.predict(X_test)\n",
    "\n",
    "    # Calcular métricas\n",
    "    metrics_results_cla[name] = {\n",
    "            'Train Accuracy': accuracy_score(y_train, y_train_pred),\n",
    "            'Train Precision (Weighted)': precision_score(y_train, y_train_pred, average='weighted', zero_division=0),\n",
    "            'Train Recall (Weighted)': recall_score(y_train, y_train_pred, average='weighted', zero_division=0),\n",
    "            'Train F1 (Weighted)': f1_score(y_train, y_train_pred, average='weighted', zero_division=0),\n",
    "\n",
    "            'Test Accuracy': accuracy_score(y_test, y_test_pred),\n",
    "            'Test Precision (Weighted)': precision_score(y_test, y_test_pred, average='weighted', zero_division=0),\n",
    "            'Test Recall (Weighted)': recall_score(y_test, y_test_pred, average='weighted', zero_division=0),\n",
    "            'Test F1 (Weighted)': f1_score(y_test, y_test_pred, average='weighted', zero_division=0),\n",
    "    }\n",
    "\n",
    "# Convertir las métricas en df\n",
    "df_metrics_results_cla = pd.DataFrame(metrics_results_cla).T.round(2)\n",
    "df_metrics_results_cla"
   ]
  }
 ],
 "metadata": {
  "kernelspec": {
   "display_name": "Python 3",
   "language": "python",
   "name": "python3"
  },
  "language_info": {
   "codemirror_mode": {
    "name": "ipython",
    "version": 3
   },
   "file_extension": ".py",
   "mimetype": "text/x-python",
   "name": "python",
   "nbconvert_exporter": "python",
   "pygments_lexer": "ipython3",
   "version": "3.13.2"
  }
 },
 "nbformat": 4,
 "nbformat_minor": 5
}
